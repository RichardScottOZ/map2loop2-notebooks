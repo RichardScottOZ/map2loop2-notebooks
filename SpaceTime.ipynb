{
 "cells": [
  {
   "cell_type": "code",
   "execution_count": null,
   "metadata": {},
   "outputs": [],
   "source": [
    "import map2loop.SpaceTime as st\n",
    "import matplotlib.pyplot as plt\n",
    "#requires fracpaqpy and geophys_utils"
   ]
  },
  {
   "cell_type": "code",
   "execution_count": null,
   "metadata": {},
   "outputs": [],
   "source": [
    "orogenic_filename='D:/Dropbox/Loop_paterson/spacetimedata/GSWA/500k_orogenic_event.shp'\n",
    "geochron_filename='D:/Dropbox/Loop_paterson/spacetimedata/GSWA/geochron/GSWA_Geochron.shp'\n",
    "geology_filename='D:/Dropbox/Loop_paterson/spacetimedata/GSWA/geol_500k.shp'\n",
    "linear_filename='D:/Dropbox/Loop_paterson/spacetimedata/GSWA/linear_500k.shp'\n",
    "density_filename='D:/Dropbox/Loop_paterson/spacetimedata/GA/BulkDensity/BulkDensityPoint.shp'\n",
    "mag_sus_filename='D:/Dropbox/Loop_paterson/spacetimedata/GA/MagneticSusceptibility/MagneticSusceptibility.shp'\n",
    "eggs_filename='D:/Dropbox/Loop_paterson/spacetimedata/GA/BoreholeDepthAges/BoreholeDepthAgesPoint.shp'\n",
    "mag_netcdf_path =\"https://dapds00.nci.org.au/thredds/dodsC/iv65/Geoscience_Australia_Geophysics_Reference_Data_Collection/national_geophysical_compilations/Magmap2019/Magmap2019-grid-tmi-Cellsize40m-AWAGS_MAG_2019.nc\"\n",
    "grav_netcdf_path = \"https://dapds00.nci.org.au//thredds/dodsC/iv65/Geoscience_Australia_Geophysics_Reference_Data_Collection/national_geophysical_compilations/Gravmap2019/Gravmap2019-grid-grv_cscba_1vd.nc\"\n",
    "\n",
    "bbox=[122,-30,124,-28]\n"
   ]
  },
  {
   "cell_type": "code",
   "execution_count": null,
   "metadata": {},
   "outputs": [],
   "source": [
    "bbox"
   ]
  },
  {
   "cell_type": "code",
   "execution_count": null,
   "metadata": {
    "scrolled": false
   },
   "outputs": [],
   "source": [
    "st.plot_geology_codes(geology_filename,bbox)\n",
    "st.plot_geochron(geochron_filename,bbox)\n",
    "st.plot_geology_parents(geology_filename,bbox)\n",
    "st.plot_linear_segments(linear_filename,bbox,'Fault')\n",
    "st.plot_whole_linear(linear_filename,bbox,'Fault')\n",
    "st.plot_linear_segments(linear_filename,bbox,'Fold')\n",
    "st.plot_whole_linear(linear_filename,bbox,'Fold')\n",
    "st.plot_orogenic(orogenic_filename,bbox)\n",
    "st.plot_mag_mag_sus(mag_netcdf_path,mag_sus_filename,bbox)\n",
    "st.plot_grav_density(grav_netcdf_path,density_filename,bbox)\n",
    "st.plot_eggs(eggs_filename,bbox)"
   ]
  },
  {
   "cell_type": "code",
   "execution_count": null,
   "metadata": {},
   "outputs": [],
   "source": []
  }
 ],
 "metadata": {
  "kernelspec": {
   "display_name": "Python 3 (ipykernel)",
   "language": "python",
   "name": "python3"
  },
  "language_info": {
   "codemirror_mode": {
    "name": "ipython",
    "version": 3
   },
   "file_extension": ".py",
   "mimetype": "text/x-python",
   "name": "python",
   "nbconvert_exporter": "python",
   "pygments_lexer": "ipython3",
   "version": "3.8.12"
  }
 },
 "nbformat": 4,
 "nbformat_minor": 4
}
